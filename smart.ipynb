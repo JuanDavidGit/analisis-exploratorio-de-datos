{
 "cells": [
  {
   "cell_type": "code",
   "execution_count": null,
   "metadata": {},
   "outputs": [],
   "source": [
    "contexto -Las Tringas flavipes son aves migratorias que han presentado un declive de sus poblaciones a traves de los años,\n",
    "llevando a que se considere su inclusion en la lista de especies Vulnerable. Se hace entonces necesario observar como afecta el estado de sus sitios de invernada a las poblaciones presentes en el Valle del Cauca y asi asegurar la conservacion de la especie\n",
    "Uso de ciencia de datos -Haciendo uso de datos historicos dispoblibles en plataformas como eBird y naturalist, podemos observar el cambio en las poblaciones por medio de las observaciones reportadas en estas plataformas.\n",
    "Smart ¿Como ha influido el cambio en el uso del suelo en el Valle del Cauca sobre el tamano de las poblaciones de Tringa flavipes durante los ultimos 10 anos, y que cambios especificos en el uso del suelo han tenido el mayor impacto en estas poblaciones? \n"
   ]
  }
 ],
 "metadata": {
  "language_info": {
   "name": "python"
  }
 },
 "nbformat": 4,
 "nbformat_minor": 2
}
