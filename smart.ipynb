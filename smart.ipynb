{
 "cells": [
  {
   "cell_type": "code",
   "execution_count": null,
   "metadata": {},
   "outputs": [],
   "source": [
    "contexto -Las Tringas flavipes son aves migratorias que han presentado un declive de sus poblaciones a traves de los años,\n",
    "llevando a que se considere su inclusion en la lista de especies Vulnerable. Se hace entonces necesario observar como afecta el estado de sus sitios de invernada a las poblaciones presentes en el Valle del Cauca y asi asegurar la conservacion de la especie\n",
    "Uso de ciencia de datos -Haciendo uso de datos historicos dispoblibles en plataformas como eBird y naturalist, podemos observar el cambio en las poblaciones por medio de las observaciones reportadas en estas plataformas.\n",
    "Smart  ¿Existe una correlación fuerte (>0.5) entre la frecuencia de avistamientos de Tringa flavipes en el Valle Geográfico del Río Cauca y 
las condiciones ambientales (porcentaje de cobertura acuática, temperatura y precipitación promedio) registradas durante el período de migración en los últimos 15 años según los datos de eBird?
   ]
  }
 ],
 "metadata": {
  "language_info": {
   "name": "python"
  }
 },
 "nbformat": 4,
 "nbformat_minor": 2
}
